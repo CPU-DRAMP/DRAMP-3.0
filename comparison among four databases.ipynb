{
 "cells": [
  {
   "cell_type": "code",
   "execution_count": 1,
   "id": "47050253",
   "metadata": {},
   "outputs": [
    {
     "name": "stdout",
     "output_type": "stream",
     "text": [
      "All_APD:3051; All_CAMP:4433; All_DBAASP:13424; All_DRAMP:19484;\n"
     ]
    }
   ],
   "source": [
    "import pandas as pd\n",
    "import numpy as np\n",
    "import matplotlib.pyplot as plt\n",
    "\n",
    "data=pd.read_excel(\"C:/Users/Shi_Crazy/Desktop/小论文修订/Comparison among four databases.xlsx\")\n",
    "APD_seq=data.iloc[0:3051,0]\n",
    "CAMP_seq=data.iloc[0:4433,2]\n",
    "DBAASP_seq=data.iloc[0:13424,4]\n",
    "DRAMP_seq=data.iloc[0:19496,6]\n",
    "print('All_APD:{};'.format(len(APD_seq)),'All_CAMP:{};'.format(len(CAMP_seq)),'All_DBAASP:{};'.format(len(DBAASP_seq)),'All_DRAMP:{};'.format(len(DRAMP_seq)))"
   ]
  },
  {
   "cell_type": "code",
   "execution_count": 2,
   "id": "d01bc885",
   "metadata": {},
   "outputs": [
    {
     "name": "stdout",
     "output_type": "stream",
     "text": [
      "PART0 APD_CAMP_DBAASP -- > 1136\n",
      "PART1 APD_CAMP_DBAASP -- > 110\n",
      "PART2 APD_CAMP_DRAMP -- > 448\n",
      "PART3 APD_DBAASP_DRAMP -- > 259\n",
      "PART4 CAMP_DBAASP_DRAMP -- > 414\n",
      "PART5 APD_DRAMP -- > 329\n",
      "PART6 CAMP_DBAASP -- > 57\n",
      "PART7 APD_DBAASP -- > 409\n",
      "PART8 APD_CAMP -- > 103\n",
      "PART9 CAMP_DRAMP -- > 1813\n",
      "PART10 DBAASP_DRAMP -- > 1552\n",
      "APD only --> 257 APD percentage -- >8.4% \n",
      "CAMP only --> 352 CAMP percentage -- >7.9% \n",
      "DBAASP only --> 9487 DBAASP percentage -- >70.7% \n",
      "DRAMP only --> 13533 DRAMP percentage -- >69.5% \n"
     ]
    }
   ],
   "source": [
    "intersection_all = list(set(APD_seq).intersection(CAMP_seq,DBAASP_seq,DRAMP_seq))\n",
    "intersection_APD_CAMP_DBAASP = list(set(APD_seq).intersection(CAMP_seq,DBAASP_seq))\n",
    "intersection_APD_CAMP_DRAMP= list(set(APD_seq).intersection(CAMP_seq,DRAMP_seq))\n",
    "intersection_APD_DBAASP_DRAMP = list(set(APD_seq).intersection(DBAASP_seq,DRAMP_seq))\n",
    "intersection_CAMP_DBAASP_DRAMP = list(set(CAMP_seq).intersection(DBAASP_seq,DRAMP_seq))\n",
    "intersection_APD_CAMP=list(set(APD_seq).intersection(CAMP_seq))\n",
    "intersection_APD_DBAASP=list(set(APD_seq).intersection(DBAASP_seq))\n",
    "intersection_APD_DRAMP=list(set(APD_seq).intersection(DRAMP_seq))\n",
    "intersection_CAMP_DBAASP=list(set(CAMP_seq).intersection(DBAASP_seq))\n",
    "intersection_CAMP_DRAMP=list(set(CAMP_seq).intersection(DRAMP_seq))\n",
    "intersection_DBAASP_DRAMP=list(set(DBAASP_seq).intersection(DRAMP_seq))\n",
    "union = list(set(APD_seq).union(CAMP_seq,DBAASP_seq,DRAMP_seq))\n",
    "print('PART0 APD_CAMP_DBAASP -- >',len(intersection_all))\n",
    "print('PART1 APD_CAMP_DBAASP -- >',len(intersection_APD_CAMP_DBAASP)-len(intersection_all))\n",
    "print('PART2 APD_CAMP_DRAMP -- >',len(intersection_APD_CAMP_DRAMP)-len(intersection_all))\n",
    "print('PART3 APD_DBAASP_DRAMP -- >',len(intersection_APD_DBAASP_DRAMP)-len(intersection_all))\n",
    "print('PART4 CAMP_DBAASP_DRAMP -- >',len(intersection_CAMP_DBAASP_DRAMP)-len(intersection_all))\n",
    "print('PART5 APD_DRAMP -- >',len(intersection_APD_DRAMP)-1136-448-259)\n",
    "print('PART6 CAMP_DBAASP -- >', len(intersection_CAMP_DBAASP)-1136-414-110 )\n",
    "print('PART7 APD_DBAASP -- >', len(intersection_APD_DBAASP)-1136-110-259 )\n",
    "print('PART8 APD_CAMP -- >', len(intersection_APD_CAMP)-1136-110-448)\n",
    "print('PART9 CAMP_DRAMP -- >', len(intersection_CAMP_DRAMP)-1136-448-414)\n",
    "print('PART10 DBAASP_DRAMP -- >', len(intersection_DBAASP_DRAMP)-1136-414-259)\n",
    "print('APD only -->', len(APD_seq)-409-110-103-448-1136-329-259, 'APD percentage -- >{:.1%} '.format((len(APD_seq)-409-110-103-448-1136-329-259)/len(APD_seq)))\n",
    "print('CAMP only -->', len(CAMP_seq)-1813-103-448-110-1136-57-414,'CAMP percentage -- >{:.1%} '.format((len(CAMP_seq)-1813-103-448-110-1136-57-414)/len(CAMP_seq)))\n",
    "print('DBAASP only -->', len(DBAASP_seq)-409-110-1136-57-414-259-1552,'DBAASP percentage -- >{:.1%} '.format((len(DBAASP_seq)-409-110-1136-57-414-259-1552)/len(DBAASP_seq)))\n",
    "print('DRAMP only -->',len(DRAMP_seq)-1813-448-329-1136-414-259-1552,'DRAMP percentage -- >{:.1%} '.format((len(DRAMP_seq)-1813-448-329-1136-414-259-1552)/len(DRAMP_seq)))\n"
   ]
  },
  {
   "cell_type": "code",
   "execution_count": null,
   "id": "2390bb20",
   "metadata": {},
   "outputs": [],
   "source": []
  }
 ],
 "metadata": {
  "kernelspec": {
   "display_name": "Python 3",
   "language": "python",
   "name": "python3"
  },
  "language_info": {
   "codemirror_mode": {
    "name": "ipython",
    "version": 3
   },
   "file_extension": ".py",
   "mimetype": "text/x-python",
   "name": "python",
   "nbconvert_exporter": "python",
   "pygments_lexer": "ipython3",
   "version": "3.8.8"
  }
 },
 "nbformat": 4,
 "nbformat_minor": 5
}
